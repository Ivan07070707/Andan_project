{
 "cells": [
  {
   "cell_type": "code",
   "id": "initial_id",
   "metadata": {
    "collapsed": true,
    "ExecuteTime": {
     "end_time": "2024-04-25T21:17:44.777600Z",
     "start_time": "2024-04-25T21:17:44.775856Z"
    }
   },
   "source": [
    "import requests\n",
    "from bs4 import BeautifulSoup\n",
    "import json"
   ],
   "execution_count": 10,
   "outputs": []
  },
  {
   "metadata": {
    "ExecuteTime": {
     "end_time": "2024-04-25T21:17:44.811730Z",
     "start_time": "2024-04-25T21:17:44.809034Z"
    }
   },
   "cell_type": "code",
   "source": [
    "urls_browse = ['https://store.playstation.com/en-us/pages/browse']\n",
    "urls = []\n",
    "\n",
    "for i in range(2, 380):\n",
    "    urls_browse.append(f'https://store.playstation.com/en-us/pages/browse/{i}')\n",
    "\n",
    "print(f'{len(urls_browse)} ссылок на страницы с играми собрано')"
   ],
   "id": "a5150d343581184",
   "execution_count": 11,
   "outputs": []
  },
  {
   "metadata": {},
   "cell_type": "markdown",
   "source": "На странице https://www.pushsquare.com/guides/all-ps-plus-games есть список игр, которые можно запустить с PS Plus бесплатно. Это тоже стоит учесть",
   "id": "91f0fedc1510c899"
  },
  {
   "metadata": {
    "ExecuteTime": {
     "end_time": "2024-04-25T21:25:01.315388Z",
     "start_time": "2024-04-25T21:17:44.812702Z"
    }
   },
   "cell_type": "code",
   "source": [
    "for url in urls_browse:\n",
    "\n",
    "    response = requests.get(url)\n",
    "    data = response.text\n",
    "\n",
    "    soup = BeautifulSoup(data, 'html.parser')\n",
    "\n",
    "    links = soup.find_all('a', href = True)\n",
    "\n",
    "    for link in links:\n",
    "        if '/en-us/concept/' in link['href']:\n",
    "            urls.append(f\"https://store.playstation.com{link['href']}\")\n",
    "\n",
    "print(f'{len(urls)} ссылок на игры собрано')"
   ],
   "id": "49d0b11fa67d6fcf",
   "execution_count": 12,
   "outputs": []
  },
  {
   "metadata": {
    "ExecuteTime": {
     "end_time": "2024-04-26T13:55:42.643531Z",
     "start_time": "2024-04-25T21:25:01.316695Z"
    }
   },
   "cell_type": "code",
   "source": [
    "with open('output.json', 'w') as file:\n",
    "    print(f\"Файл {'output.json'} был очищен.\")\n",
    "\n",
    "# Импортируем здесь, чтобы сразу подгружалось актуальная версия и не нужно было ждать 7 минут из прошлого блока\n",
    "from parser import DataParser\n",
    "\n",
    "for url in urls:\n",
    "    parser = DataParser(url)\n",
    "    try:\n",
    "        parser.run()\n",
    "    except Exception as e:\n",
    "        print(f\"Ошибка парсинга для {url} ошибка: {e}\")"
   ],
   "id": "3de02f64bfcc493",
   "execution_count": 13,
   "outputs": []
  },
  {
   "metadata": {
    "ExecuteTime": {
     "end_time": "2024-04-26T16:30:41.044050Z",
     "start_time": "2024-04-26T16:30:41.012211Z"
    }
   },
   "cell_type": "code",
   "source": [
    "collected_urls = set(urls)\n",
    "\n",
    "with open('output.json', 'r', encoding = 'utf-8') as json_file:\n",
    "    data = json.load(json_file)\n",
    "\n",
    "json_urls = set(data.keys())\n",
    "\n",
    "missing_urls = collected_urls - json_urls\n",
    "\n",
    "print(f\"В JSON файле отсутствуют {len(missing_urls)} ссылок из собранных.\")\n",
    "for url in missing_urls:\n",
    "    print(url)"
   ],
   "id": "b43cd5c6a77c3d1d",
   "execution_count": 15,
   "outputs": []
  },
  {
   "metadata": {},
   "cell_type": "markdown",
   "source": [
    "# Вывод\n",
    "Все ссылки на игры были собраны и обработаны. Все данные были сохранены в файле output.json. Все те ссылки, которые не были добавлены в файл, были выведены на экран. Они не были выведены на экран так как игры ещё не вышли ил не доступны для покупки."
   ],
   "id": "dc266da0efa1b178"
  }
 ],
 "metadata": {
  "kernelspec": {
   "display_name": "Python 3",
   "language": "python",
   "name": "python3"
  },
  "language_info": {
   "codemirror_mode": {
    "name": "ipython",
    "version": 2
   },
   "file_extension": ".py",
   "mimetype": "text/x-python",
   "name": "python",
   "nbconvert_exporter": "python",
   "pygments_lexer": "ipython2",
   "version": "2.7.6"
  }
 },
 "nbformat": 4,
 "nbformat_minor": 5
}
